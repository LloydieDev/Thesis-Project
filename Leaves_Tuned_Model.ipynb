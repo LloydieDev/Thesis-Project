{
  "nbformat": 4,
  "nbformat_minor": 0,
  "metadata": {
    "colab": {
      "provenance": []
    },
    "kernelspec": {
      "name": "python3",
      "display_name": "Python 3"
    },
    "language_info": {
      "name": "python"
    }
  },
  "cells": [
    {
      "cell_type": "code",
      "execution_count": null,
      "metadata": {
        "id": "YNy_aDcu6mSh"
      },
      "outputs": [],
      "source": [
        "import tensorflow as tf\n",
        "import os #for file management\n",
        "import matplotlib.pyplot as plt\n",
        "import pandas as pd\n",
        "import numpy as np\n",
        "import seaborn as sns\n",
        "from sklearn.metrics import precision_score, recall_score, f1_score\n"
      ]
    },
    {
      "cell_type": "code",
      "source": [
        "from google.colab import drive\n",
        "drive.mount('/content/drive')"
      ],
      "metadata": {
        "colab": {
          "base_uri": "https://localhost:8080/"
        },
        "id": "jLGI-9Jy60rS",
        "outputId": "418e9600-d162-4131-b6e0-820e9c7f4cbe"
      },
      "execution_count": null,
      "outputs": [
        {
          "output_type": "stream",
          "name": "stdout",
          "text": [
            "Mounted at /content/drive\n"
          ]
        }
      ]
    },
    {
      "cell_type": "code",
      "source": [
        "base_dir = r'/content/drive/MyDrive/Final Train Data/Leaf' #  dataset directory"
      ],
      "metadata": {
        "id": "WIJqnSg-64tn"
      },
      "execution_count": null,
      "outputs": []
    },
    {
      "cell_type": "code",
      "source": [
        "\n",
        "IMAGE_SIZE = 224\n",
        "BATCH_SIZE = 64\n",
        "\n",
        "datagen = tf.keras.preprocessing.image.ImageDataGenerator(\n",
        "    rescale=1./255,\n",
        "    validation_split=0.2,\n",
        "\n",
        "    # data augmentation\n",
        "    rotation_range=40,\n",
        "    width_shift_range=0.3,\n",
        "    height_shift_range=0.3,\n",
        "    shear_range=30,\n",
        "    zoom_range=0.3,\n",
        "    horizontal_flip=True,\n",
        "    vertical_flip=True,\n",
        "    fill_mode='nearest'\n",
        ")\n",
        "\n",
        "train_generator = datagen.flow_from_directory(\n",
        "    base_dir,\n",
        "    target_size=(IMAGE_SIZE, IMAGE_SIZE),\n",
        "    batch_size=BATCH_SIZE,\n",
        "    subset='training'\n",
        ")\n",
        "\n",
        "val_generator = datagen.flow_from_directory(\n",
        "    base_dir,\n",
        "    target_size=(IMAGE_SIZE, IMAGE_SIZE),\n",
        "    batch_size=BATCH_SIZE,\n",
        "    subset='validation'\n",
        ")\n"
      ],
      "metadata": {
        "colab": {
          "base_uri": "https://localhost:8080/"
        },
        "id": "kVTRtuHl65aq",
        "outputId": "2780175f-25f0-4dc5-8fd7-e88fa6138961"
      },
      "execution_count": null,
      "outputs": [
        {
          "output_type": "stream",
          "name": "stdout",
          "text": [
            "Found 1236 images belonging to 4 classes.\n",
            "Found 40 images belonging to 4 classes.\n",
            "Found 308 images belonging to 4 classes.\n",
            "Downloading data from https://storage.googleapis.com/tensorflow/keras-applications/mobilenet_v2/mobilenet_v2_weights_tf_dim_ordering_tf_kernels_1.0_224_no_top.h5\n",
            "9406464/9406464 [==============================] - 0s 0us/step\n"
          ]
        }
      ]
    },
    {
      "cell_type": "code",
      "source": [
        "## labels\n",
        "print(train_generator.class_indices) \n",
        "labels = '\\n'.join(sorted(train_generator.class_indices.keys()))\n",
        "with open('leaves.txt', 'w') as f: \n",
        "    f.write(labels)"
      ],
      "metadata": {
        "id": "byYCh4OUXDtz"
      },
      "execution_count": null,
      "outputs": []
    },
    {
      "cell_type": "code",
      "source": [
        "\n",
        "# get the first batch of images\n",
        "x_batch, y_batch = next(train_generator)\n",
        "\n",
        "# get the class names from the generator\n",
        "class_names = list(train_generator.class_indices.keys())\n",
        "\n",
        "# plot the first 9 images in the batch\n",
        "plt.figure(figsize=(10, 10))\n",
        "for i in range(12):\n",
        "    # get the true class of the image\n",
        "    true_class = class_names[y_batch[i].argmax()]\n",
        "\n",
        "    ax = plt.subplot(4, 4, i + 1)\n",
        "    plt.imshow(x_batch[i])\n",
        "    plt.title(true_class)\n",
        "    plt.axis(\"off\")\n",
        "plt.show()\n"
      ],
      "metadata": {
        "id": "X9wp2bNRWuIn"
      },
      "execution_count": null,
      "outputs": []
    },
    {
      "cell_type": "markdown",
      "source": [
        "## Transfer Learning Concept\n"
      ],
      "metadata": {
        "id": "e5DDVP9pWhaw"
      }
    },
    {
      "cell_type": "code",
      "source": [
        "## Model\n",
        "IMG_SHAPE = (IMAGE_SIZE, IMAGE_SIZE, 3) \n",
        "\n",
        "## MobileNet V2\n",
        "base_model = tf.keras.applications.MobileNetV2(\n",
        "    input_shape=IMG_SHAPE,\n",
        "    include_top=False,\n",
        "    weights='imagenet'\n",
        ")\n",
        "\n",
        "for layer in base_model.layers:\n",
        "    layer.trainable = False"
      ],
      "metadata": {
        "id": "Oj_u32TZWgXh"
      },
      "execution_count": null,
      "outputs": []
    },
    {
      "cell_type": "code",
      "source": [
        "\n",
        "## Tuned up model\n",
        "model = tf.keras.Sequential([\n",
        "    base_model,\n",
        "    tf.keras.layers.Conv2D(64, 3, activation='relu'),\n",
        "    tf.keras.layers.BatchNormalization(),\n",
        "    tf.keras.layers.MaxPooling2D(pool_size=(2, 2)),\n",
        "    tf.keras.layers.Dropout(0.3),\n",
        "    tf.keras.layers.Flatten(),\n",
        "    tf.keras.layers.Dense(128, activation='relu'),\n",
        "    tf.keras.layers.Dropout(0.3),\n",
        "    tf.keras.layers.Dense(4, activation='softmax')\n",
        "])"
      ],
      "metadata": {
        "id": "DrLG1X4-WvHc"
      },
      "execution_count": null,
      "outputs": []
    },
    {
      "cell_type": "code",
      "source": [
        "model.summary()"
      ],
      "metadata": {
        "colab": {
          "base_uri": "https://localhost:8080/"
        },
        "id": "-7PYXBP0nt8b",
        "outputId": "96c3fce8-69e7-4cfc-caab-e86102a731c7"
      },
      "execution_count": null,
      "outputs": [
        {
          "output_type": "stream",
          "name": "stdout",
          "text": [
            "Model: \"sequential\"\n",
            "_________________________________________________________________\n",
            " Layer (type)                Output Shape              Param #   \n",
            "=================================================================\n",
            " mobilenetv2_1.00_224 (Funct  (None, 7, 7, 1280)       2257984   \n",
            " ional)                                                          \n",
            "                                                                 \n",
            " conv2d (Conv2D)             (None, 5, 5, 64)          737344    \n",
            "                                                                 \n",
            " batch_normalization (BatchN  (None, 5, 5, 64)         256       \n",
            " ormalization)                                                   \n",
            "                                                                 \n",
            " max_pooling2d (MaxPooling2D  (None, 2, 2, 64)         0         \n",
            " )                                                               \n",
            "                                                                 \n",
            " dropout (Dropout)           (None, 2, 2, 64)          0         \n",
            "                                                                 \n",
            " flatten (Flatten)           (None, 256)               0         \n",
            "                                                                 \n",
            " dense (Dense)               (None, 128)               32896     \n",
            "                                                                 \n",
            " dropout_1 (Dropout)         (None, 128)               0         \n",
            "                                                                 \n",
            " dense_1 (Dense)             (None, 4)                 516       \n",
            "                                                                 \n",
            "=================================================================\n",
            "Total params: 3,028,996\n",
            "Trainable params: 770,884\n",
            "Non-trainable params: 2,258,112\n",
            "_________________________________________________________________\n"
          ]
        }
      ]
    },
    {
      "cell_type": "code",
      "source": [
        "for layer in model.layers:\n",
        "    if isinstance(layer, tf.keras.layers.Conv2D):\n",
        "        print(layer.kernel_size)"
      ],
      "metadata": {
        "colab": {
          "base_uri": "https://localhost:8080/"
        },
        "id": "ZNM3KM3YS7y3",
        "outputId": "f5608eb8-e343-458e-86fe-232cdc7c12c5"
      },
      "execution_count": null,
      "outputs": [
        {
          "output_type": "stream",
          "name": "stdout",
          "text": [
            "(3, 3)\n"
          ]
        }
      ]
    },
    {
      "cell_type": "code",
      "source": [
        "epochs = 10 \n",
        "history = model.fit(\n",
        "    train_generator, \n",
        "    epochs = epochs, \n",
        "    validation_data=val_generator\n",
        ")"
      ],
      "metadata": {
        "colab": {
          "base_uri": "https://localhost:8080/"
        },
        "id": "71Vn-IgA7cCl",
        "outputId": "c66ddf29-367d-42d0-9d31-b4c8cd1b24ef"
      },
      "execution_count": null,
      "outputs": [
        {
          "output_type": "stream",
          "name": "stdout",
          "text": [
            "Epoch 1/10\n",
            "20/20 [==============================] - 111s 5s/step - loss: 0.7646 - accuracy: 0.7387 - precision: 0.7676 - recall: 0.6893 - val_loss: 0.3855 - val_accuracy: 0.9058 - val_precision: 0.9148 - val_recall: 0.9058\n",
            "Epoch 2/10\n",
            "20/20 [==============================] - 124s 6s/step - loss: 0.2350 - accuracy: 0.9110 - precision: 0.9271 - recall: 0.8948 - val_loss: 0.0742 - val_accuracy: 0.9740 - val_precision: 0.9803 - val_recall: 0.9708\n",
            "Epoch 3/10\n",
            "20/20 [==============================] - 102s 5s/step - loss: 0.1498 - accuracy: 0.9474 - precision: 0.9547 - recall: 0.9377 - val_loss: 0.1904 - val_accuracy: 0.9481 - val_precision: 0.9481 - val_recall: 0.9481\n",
            "Epoch 4/10\n",
            "20/20 [==============================] - 102s 5s/step - loss: 0.1090 - accuracy: 0.9684 - precision: 0.9699 - recall: 0.9636 - val_loss: 0.0893 - val_accuracy: 0.9740 - val_precision: 0.9739 - val_recall: 0.9675\n",
            "Epoch 5/10\n",
            "20/20 [==============================] - 102s 5s/step - loss: 0.0918 - accuracy: 0.9709 - precision: 0.9748 - recall: 0.9684 - val_loss: 0.0851 - val_accuracy: 0.9675 - val_precision: 0.9675 - val_recall: 0.9675\n",
            "Epoch 6/10\n",
            "20/20 [==============================] - 104s 5s/step - loss: 0.1055 - accuracy: 0.9636 - precision: 0.9650 - recall: 0.9587 - val_loss: 0.0661 - val_accuracy: 0.9773 - val_precision: 0.9773 - val_recall: 0.9773\n",
            "Epoch 7/10\n",
            "20/20 [==============================] - 104s 5s/step - loss: 0.0735 - accuracy: 0.9733 - precision: 0.9740 - recall: 0.9717 - val_loss: 0.1710 - val_accuracy: 0.9578 - val_precision: 0.9578 - val_recall: 0.9578\n",
            "Epoch 8/10\n",
            "20/20 [==============================] - 103s 5s/step - loss: 0.1002 - accuracy: 0.9652 - precision: 0.9668 - recall: 0.9652 - val_loss: 0.0796 - val_accuracy: 0.9773 - val_precision: 0.9805 - val_recall: 0.9773\n",
            "Epoch 9/10\n",
            "20/20 [==============================] - 103s 5s/step - loss: 0.0586 - accuracy: 0.9838 - precision: 0.9854 - recall: 0.9830 - val_loss: 0.1631 - val_accuracy: 0.9481 - val_precision: 0.9574 - val_recall: 0.9481\n",
            "Epoch 10/10\n",
            "20/20 [==============================] - 102s 5s/step - loss: 0.0695 - accuracy: 0.9765 - precision: 0.9781 - recall: 0.9741 - val_loss: 0.0425 - val_accuracy: 0.9903 - val_precision: 0.9902 - val_recall: 0.9870\n"
          ]
        }
      ]
    },
    {
      "cell_type": "code",
      "source": [
        "## Converting the model to tflite\n",
        "saved_model_dir = '' \n",
        "tf.saved_model.save(model, saved_model_dir) \n",
        "converter = tf.lite.TFLiteConverter.from_saved_model(saved_model_dir) \n",
        "tflite_model = converter.convert()\n",
        "with open('pest.tflite', 'wb') as f:\n",
        "  f.write(tflite_model)"
      ],
      "metadata": {
        "colab": {
          "base_uri": "https://localhost:8080/"
        },
        "id": "jw_TdgAT7dq4",
        "outputId": "ff62c2d2-8040-4306-f688-b96293ddff0c"
      },
      "execution_count": null,
      "outputs": [
        {
          "output_type": "stream",
          "name": "stderr",
          "text": [
            "WARNING:absl:Function `_wrapped_model` contains input name(s) mobilenetv2_1.00_224_input with unsupported characters which will be renamed to mobilenetv2_1_00_224_input in the SavedModel.\n",
            "WARNING:absl:Found untraced functions such as _jit_compiled_convolution_op, _update_step_xla, _jit_compiled_convolution_op, _jit_compiled_convolution_op, _jit_compiled_convolution_op while saving (showing 5 of 54). These functions will not be directly callable after loading.\n",
            "WARNING:absl:Function `signature_wrapper` contains input name(s) mobilenetv2_1.00_224_input with unsupported characters which will be renamed to mobilenetv2_1_00_224_input in the SavedModel.\n",
            "WARNING:absl:Found untraced functions such as restored_function_body, restored_function_body, restored_function_body, restored_function_body, restored_function_body while saving (showing 5 of 54). These functions will not be directly callable after loading.\n"
          ]
        }
      ]
    },
    {
      "cell_type": "code",
      "source": [
        "## Saving the file\n",
        "from google.colab import files\n",
        "files.download('pest.tflite')\n",
        "files.download('pest.txt')"
      ],
      "metadata": {
        "colab": {
          "base_uri": "https://localhost:8080/",
          "height": 17
        },
        "id": "6IWA3o407fpz",
        "outputId": "7e60ae89-2652-4ef8-fadf-827a20ea7b36"
      },
      "execution_count": null,
      "outputs": [
        {
          "output_type": "display_data",
          "data": {
            "text/plain": [
              "<IPython.core.display.Javascript object>"
            ],
            "application/javascript": [
              "\n",
              "    async function download(id, filename, size) {\n",
              "      if (!google.colab.kernel.accessAllowed) {\n",
              "        return;\n",
              "      }\n",
              "      const div = document.createElement('div');\n",
              "      const label = document.createElement('label');\n",
              "      label.textContent = `Downloading \"${filename}\": `;\n",
              "      div.appendChild(label);\n",
              "      const progress = document.createElement('progress');\n",
              "      progress.max = size;\n",
              "      div.appendChild(progress);\n",
              "      document.body.appendChild(div);\n",
              "\n",
              "      const buffers = [];\n",
              "      let downloaded = 0;\n",
              "\n",
              "      const channel = await google.colab.kernel.comms.open(id);\n",
              "      // Send a message to notify the kernel that we're ready.\n",
              "      channel.send({})\n",
              "\n",
              "      for await (const message of channel.messages) {\n",
              "        // Send a message to notify the kernel that we're ready.\n",
              "        channel.send({})\n",
              "        if (message.buffers) {\n",
              "          for (const buffer of message.buffers) {\n",
              "            buffers.push(buffer);\n",
              "            downloaded += buffer.byteLength;\n",
              "            progress.value = downloaded;\n",
              "          }\n",
              "        }\n",
              "      }\n",
              "      const blob = new Blob(buffers, {type: 'application/binary'});\n",
              "      const a = document.createElement('a');\n",
              "      a.href = window.URL.createObjectURL(blob);\n",
              "      a.download = filename;\n",
              "      div.appendChild(a);\n",
              "      a.click();\n",
              "      div.remove();\n",
              "    }\n",
              "  "
            ]
          },
          "metadata": {}
        },
        {
          "output_type": "display_data",
          "data": {
            "text/plain": [
              "<IPython.core.display.Javascript object>"
            ],
            "application/javascript": [
              "download(\"download_26af81a5-36f1-4ff3-a881-6cdfc2513006\", \"pest.tflite\", 11952116)"
            ]
          },
          "metadata": {}
        },
        {
          "output_type": "display_data",
          "data": {
            "text/plain": [
              "<IPython.core.display.Javascript object>"
            ],
            "application/javascript": [
              "\n",
              "    async function download(id, filename, size) {\n",
              "      if (!google.colab.kernel.accessAllowed) {\n",
              "        return;\n",
              "      }\n",
              "      const div = document.createElement('div');\n",
              "      const label = document.createElement('label');\n",
              "      label.textContent = `Downloading \"${filename}\": `;\n",
              "      div.appendChild(label);\n",
              "      const progress = document.createElement('progress');\n",
              "      progress.max = size;\n",
              "      div.appendChild(progress);\n",
              "      document.body.appendChild(div);\n",
              "\n",
              "      const buffers = [];\n",
              "      let downloaded = 0;\n",
              "\n",
              "      const channel = await google.colab.kernel.comms.open(id);\n",
              "      // Send a message to notify the kernel that we're ready.\n",
              "      channel.send({})\n",
              "\n",
              "      for await (const message of channel.messages) {\n",
              "        // Send a message to notify the kernel that we're ready.\n",
              "        channel.send({})\n",
              "        if (message.buffers) {\n",
              "          for (const buffer of message.buffers) {\n",
              "            buffers.push(buffer);\n",
              "            downloaded += buffer.byteLength;\n",
              "            progress.value = downloaded;\n",
              "          }\n",
              "        }\n",
              "      }\n",
              "      const blob = new Blob(buffers, {type: 'application/binary'});\n",
              "      const a = document.createElement('a');\n",
              "      a.href = window.URL.createObjectURL(blob);\n",
              "      a.download = filename;\n",
              "      div.appendChild(a);\n",
              "      a.click();\n",
              "      div.remove();\n",
              "    }\n",
              "  "
            ]
          },
          "metadata": {}
        },
        {
          "output_type": "display_data",
          "data": {
            "text/plain": [
              "<IPython.core.display.Javascript object>"
            ],
            "application/javascript": [
              "download(\"download_03134546-13c7-463e-b1ed-f6fb14b3109e\", \"pest.txt\", 46)"
            ]
          },
          "metadata": {}
        }
      ]
    },
    {
      "cell_type": "markdown",
      "source": [
        "## Analyzing the Result"
      ],
      "metadata": {
        "id": "25em15MfoAJU"
      }
    },
    {
      "cell_type": "code",
      "source": [
        "acc = history.history['accuracy']\n",
        "val_acc = history.history['val_accuracy']\n",
        "loss = history.history['loss']\n",
        "val_loss = history.history['val_loss']\n",
        "precision = history.history['precision']\n",
        "val_precision = history.history['val_precision']\n",
        "recall = history.history['recall']\n",
        "val_recall = history.history['val_recall']"
      ],
      "metadata": {
        "id": "XI9sWg-0j0Qy"
      },
      "execution_count": null,
      "outputs": []
    },
    {
      "cell_type": "code",
      "source": [
        "print(acc)\n",
        "print(val_acc)\n",
        "print(loss)\n",
        "print(val_loss)\n",
        "print(precision)\n",
        "print(val_precision)\n",
        "print(recall)\n",
        "print(val_recall )"
      ],
      "metadata": {
        "colab": {
          "base_uri": "https://localhost:8080/"
        },
        "id": "IoSNUMOjj6A2",
        "outputId": "fa10c6af-4d83-447e-92a7-2d5767b18a37"
      },
      "execution_count": null,
      "outputs": [
        {
          "output_type": "stream",
          "name": "stdout",
          "text": [
            "[0.7386731505393982, 0.9110032320022583, 0.9474110007286072, 0.9684466123580933, 0.9708737730979919, 0.9635922312736511, 0.9733009934425354, 0.9652103781700134, 0.983818769454956, 0.9765372276306152]\n",
            "[0.9058441519737244, 0.9740259647369385, 0.948051929473877, 0.9740259647369385, 0.9675324559211731, 0.9772727489471436, 0.9577922224998474, 0.9772727489471436, 0.948051929473877, 0.9902597665786743]\n",
            "[0.7646228075027466, 0.2350025326013565, 0.14977362751960754, 0.10896081477403641, 0.09178616851568222, 0.10551943629980087, 0.07348357141017914, 0.10019132494926453, 0.058571554720401764, 0.06954573094844818]\n",
            "[0.38554492592811584, 0.0742066279053688, 0.19039426743984222, 0.08925361931324005, 0.08511090278625488, 0.06612588465213776, 0.17099256813526154, 0.07956206053495407, 0.16313867270946503, 0.04251027852296829]\n",
            "[0.7675675749778748, 0.9270746111869812, 0.9546952247619629, 0.9698697328567505, 0.9747557044029236, 0.9649837017059326, 0.974047064781189, 0.9667747020721436, 0.985401451587677, 0.978066623210907]\n",
            "[0.9147540926933289, 0.980327844619751, 0.948051929473877, 0.9738562107086182, 0.9675324559211731, 0.9772727489471436, 0.9577922224998474, 0.9804560542106628, 0.9573770761489868, 0.990227997303009]\n",
            "[0.6893203854560852, 0.8948220014572144, 0.9377022385597229, 0.9635922312736511, 0.9684466123580933, 0.958737850189209, 0.9716828465461731, 0.9652103781700134, 0.9830096960067749, 0.9741100072860718]\n",
            "[0.9058441519737244, 0.9707792401313782, 0.948051929473877, 0.9675324559211731, 0.9675324559211731, 0.9772727489471436, 0.9577922224998474, 0.9772727489471436, 0.948051929473877, 0.9870129823684692]\n"
          ]
        }
      ]
    },
    {
      "cell_type": "code",
      "source": [
        "final_acc = history.history['accuracy'][-1]\n",
        "final_val_acc = history.history['val_accuracy'][-1]\n",
        "final_loss = history.history['loss'][-1]\n",
        "final_val_loss = history.history['val_loss'][-1]\n",
        "final_precision = history.history['precision'][-1]\n",
        "final_val_precision = history.history['val_precision'][-1]\n",
        "final_recall = history.history['recall'][-1]\n",
        "final_val_recall = history.history['val_recall'][-1]"
      ],
      "metadata": {
        "id": "ncVRpMYz7sNk"
      },
      "execution_count": null,
      "outputs": []
    },
    {
      "cell_type": "code",
      "source": [
        "print(\"final_acc:\",final_acc)\n",
        "print(\"final_val_acc:\",final_val_acc)\n",
        "print(\"final_loss:\",final_loss)\n",
        "print(\"final_val_loss:\", final_val_loss)\n",
        "print(\"final_precision:\" ,final_precision)\n",
        "print(\"final_val_precision:\",final_val_precision)\n",
        "print(\"final_recall: \",final_recall)\n",
        "print(\"final_recall: \", final_val_recall)"
      ],
      "metadata": {
        "colab": {
          "base_uri": "https://localhost:8080/"
        },
        "id": "6O--dIpb7uhe",
        "outputId": "96f4fe97-9d94-4ad5-8fd2-2f5ca48672f0"
      },
      "execution_count": null,
      "outputs": [
        {
          "output_type": "stream",
          "name": "stdout",
          "text": [
            "final_acc: 0.9765372276306152\n",
            "final_val_acc: 0.9902597665786743\n",
            "final_loss: 0.06954573094844818\n",
            "final_val_loss: 0.04251027852296829\n",
            "final_precision: 0.978066623210907\n",
            "final_val_precision:  0.990227997303009\n",
            "final_recall:  0.9741100072860718\n",
            "final_recall:  0.9870129823684692\n"
          ]
        }
      ]
    }
  ]
}